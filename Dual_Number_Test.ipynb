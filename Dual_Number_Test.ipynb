{
 "cells": [
  {
   "cell_type": "code",
   "execution_count": 78,
   "id": "03e0acb4",
   "metadata": {},
   "outputs": [],
   "source": [
    "import numpy as np"
   ]
  },
  {
   "cell_type": "code",
   "execution_count": 79,
   "id": "97ac43bc",
   "metadata": {},
   "outputs": [],
   "source": [
    "class Dual:\n",
    "    def __init__(self, real, dual):\n",
    "        self.real = real\n",
    "        self.dual = dual\n",
    "\n",
    "    def __repr__(self):\n",
    "        return f\"{self.real} + {self.dual}ε\"\n",
    "\n",
    "    def __add__(self, other):\n",
    "        if isinstance(other, Dual):\n",
    "            return Dual(self.real + other.real, self.dual + other.dual)\n",
    "        else:\n",
    "            return Dual(self.real + other, self.dual)\n",
    "\n",
    "    def __radd__(self, other):\n",
    "        return self.__add__(other)\n",
    "\n",
    "    def __mul__(self, other):\n",
    "        if isinstance(other, Dual):\n",
    "            return Dual(self.real * other.real, self.real * other.dual + self.dual * other.real)\n",
    "        else:\n",
    "            return Dual(self.real * other, self.dual * other)\n",
    "\n",
    "    def __rmul__(self, other):\n",
    "        return self.__mul__(other)\n",
    "\n",
    "    def __pow__(self, power):\n",
    "        return Dual(self.real ** power, power * self.real ** (power - 1) * self.dual)"
   ]
  },
  {
   "cell_type": "code",
   "execution_count": 80,
   "id": "0eb70d29",
   "metadata": {},
   "outputs": [
    {
     "name": "stdout",
     "output_type": "stream",
     "text": [
      "6\n"
     ]
    }
   ],
   "source": [
    "def f(x):\n",
    "    return x ** 2 + 2 * x + 1\n",
    "#     return 2 + x\n",
    "\n",
    "x = Dual(2, 1) # Create a Dual object with real part 2 and dual part 1\n",
    "y = f(x)       # Evaluate the function using the Dual object\n",
    "print(y.dual)  # Print the derivative"
   ]
  },
  {
   "cell_type": "code",
   "execution_count": 113,
   "id": "c5f9f731",
   "metadata": {},
   "outputs": [],
   "source": [
    "class Tensor:\n",
    "    def __init__(self, data, requires_grad=False):\n",
    "        if isinstance(data, np.ndarray):\n",
    "            self.data = data\n",
    "            self.shape = data.shape\n",
    "        else:\n",
    "            self.data = np.array(data)\n",
    "            self.shape = self.data.shape\n",
    "            \n",
    "        self.requires_grad = requires_grad\n",
    "        self.grad = None         #gradient value\n",
    "        self._backward_fn = None #propagates gradients backward\n",
    "        \n",
    "    def __repr__(self):\n",
    "        out = self.data.__repr__().replace(\"\\n\",\"\\n \")\n",
    "        out = \"Tensor\" + out[5:-1] + f\", requires_grad={self.requires_grad})\"\n",
    "        return out\n",
    "    \n",
    "    def backward(self, grad=None):\n",
    "        if self.requires_grad:\n",
    "            if grad is None:\n",
    "                grad = Tensor(np.ones_like(self.data))\n",
    "            if self.grad is None:\n",
    "                self.grad = grad\n",
    "            else:\n",
    "                self.grad += grad\n",
    "            if self._backward_fn is not None:\n",
    "                self._backward_fn(self.grad)\n",
    "        else:\n",
    "            raise ValueError(\"Cannot call backward on a tensor that does not require gradient.\")\n",
    "\n",
    "    def __add__(self, other):\n",
    "        if isinstance(other, Tensor):\n",
    "            requires_grad = self.requires_grad or other.requires_grad\n",
    "            result = Tensor(self.data + other.data, requires_grad)\n",
    "            result._backward_fn = lambda grad: (self.backward(grad), other.backward(grad))\n",
    "            return result\n",
    "        else:\n",
    "            result = Tensor(self.data + other, self.requires_grad)\n",
    "            result._backward_fn = lambda grad: self.backward(grad)\n",
    "            return result\n",
    "\n",
    "    def __radd__(self, other):\n",
    "        return self.__add__(other)\n",
    "\n",
    "    def __mul__(self, other):\n",
    "        if isinstance(other, Tensor):\n",
    "            requires_grad = self.requires_grad or other.requires_grad\n",
    "            result = Tensor(self.data * other.data, requires_grad)\n",
    "            result._backward_fn = lambda grad: (self.backward(grad * other.data), other.backward(grad * self.data))\n",
    "            return result\n",
    "        else:\n",
    "            result = Tensor(self.data * other, self.requires_grad)\n",
    "            result._backward_fn = lambda grad: self.backward(grad * other)\n",
    "            return result\n",
    "\n",
    "    def __rmul__(self, other):\n",
    "        return self.__mul__(other)\n",
    "\n",
    "    def __sub__(self, other):\n",
    "        if isinstance(other, Tensor):\n",
    "            requires_grad = self.requires_grad or other.requires_grad\n",
    "            result = Tensor(self.data - other.data, requires_grad)\n",
    "            result._backward_fn = lambda grad: (self.backward(grad), other.backward(-grad))\n",
    "            return result\n",
    "        else:\n",
    "            return Tensor(self.data - other)\n",
    "\n",
    "    def __rsub__(self, other):\n",
    "        return -self.__sub__(other)\n",
    "\n",
    "    def __neg__(self):\n",
    "        return Tensor(-self.data, self.requires_grad)\n",
    "    \n",
    "    def __pow__(self, power):\n",
    "        result = Tensor(np.power(self.data, power), self.requires_grad)\n",
    "        result._backward_fn = lambda grad: self.backward(grad * power * np.power(self.data, power - 1))\n",
    "        return result\n",
    "    \n",
    "    def pow(self, power):\n",
    "        return self.__pow__(power)\n",
    "    \n",
    "    def sum(self):\n",
    "        result = Tensor(np.sum(self.data),self.requires_grad)\n",
    "        result._backward_fn = lambda grad: self.backward(grad * np.ones_like(self.data))\n",
    "        return result\n",
    "\n",
    "    def mean(self):\n",
    "        result = Tensor(np.mean(self.data),self.requires_grad)\n",
    "        result._backward_fn = lambda grad: self.backward(grad / self.data.size)\n",
    "        return result\n"
   ]
  },
  {
   "cell_type": "code",
   "execution_count": 122,
   "id": "ec99f149",
   "metadata": {},
   "outputs": [],
   "source": [
    "def f(x):\n",
    "    return x**2 + 2*x + 5"
   ]
  },
  {
   "cell_type": "code",
   "execution_count": 123,
   "id": "f9c03b90",
   "metadata": {},
   "outputs": [
    {
     "name": "stdout",
     "output_type": "stream",
     "text": [
      "Tensor([[ 1., -1.],\n",
      "        [ 1.,  1.]], requires_grad=True)\n",
      "Tensor([[8., 4.],\n",
      "        [8., 8.]], requires_grad=True)\n",
      "Tensor(28., requires_grad=True)\n",
      "Tensor([[4., 0.],\n",
      "        [4., 4.]], requires_grad=False)\n"
     ]
    }
   ],
   "source": [
    "x = Tensor([[1., -1.], [1., 1.]], requires_grad=True)\n",
    "out = f(x)\n",
    "print(x)\n",
    "print(out)\n",
    "out = out.sum()\n",
    "print(out)\n",
    "out.backward()\n",
    "print(x.grad)"
   ]
  },
  {
   "cell_type": "markdown",
   "id": "3dcc6669",
   "metadata": {},
   "source": [
    "import torch"
   ]
  },
  {
   "cell_type": "code",
   "execution_count": 124,
   "id": "d50b5e91",
   "metadata": {},
   "outputs": [
    {
     "name": "stdout",
     "output_type": "stream",
     "text": [
      "tensor([[ 1., -1.],\n",
      "        [ 1.,  1.]], requires_grad=True)\n",
      "tensor([[8., 4.],\n",
      "        [8., 8.]], grad_fn=<AddBackward0>)\n",
      "tensor(28., grad_fn=<SumBackward0>)\n",
      "tensor([[4., 0.],\n",
      "        [4., 4.]])\n"
     ]
    }
   ],
   "source": [
    "x = torch.tensor([[1., -1.], [1., 1.]], requires_grad=True)\n",
    "out = f(x)\n",
    "print(x)\n",
    "print(out)\n",
    "out = out.sum()\n",
    "print(out)\n",
    "out.backward()\n",
    "print(x.grad)"
   ]
  },
  {
   "cell_type": "code",
   "execution_count": 32,
   "id": "455fd3df",
   "metadata": {},
   "outputs": [
    {
     "name": "stdout",
     "output_type": "stream",
     "text": [
      "None\n"
     ]
    }
   ],
   "source": [
    "print(a.grad)"
   ]
  },
  {
   "cell_type": "code",
   "execution_count": 12,
   "id": "1757631c",
   "metadata": {},
   "outputs": [
    {
     "data": {
      "text/plain": [
       "True"
      ]
     },
     "execution_count": 12,
     "metadata": {},
     "output_type": "execute_result"
    }
   ],
   "source": [
    "isinstance(x, np.ndarray)"
   ]
  },
  {
   "cell_type": "code",
   "execution_count": 125,
   "id": "94e1bb36",
   "metadata": {},
   "outputs": [],
   "source": [
    "x = np.array([[1., -1.], [1., 1.]])"
   ]
  },
  {
   "cell_type": "code",
   "execution_count": null,
   "id": "878d6b71",
   "metadata": {},
   "outputs": [],
   "source": []
  },
  {
   "cell_type": "code",
   "execution_count": null,
   "id": "58aaba0c",
   "metadata": {},
   "outputs": [],
   "source": []
  },
  {
   "cell_type": "code",
   "execution_count": null,
   "id": "f8c797c0",
   "metadata": {},
   "outputs": [],
   "source": []
  },
  {
   "cell_type": "code",
   "execution_count": null,
   "id": "35fe53b4",
   "metadata": {},
   "outputs": [],
   "source": []
  },
  {
   "cell_type": "code",
   "execution_count": null,
   "id": "7e8dac99",
   "metadata": {},
   "outputs": [],
   "source": []
  },
  {
   "cell_type": "code",
   "execution_count": null,
   "id": "d9a5bc68",
   "metadata": {},
   "outputs": [],
   "source": []
  },
  {
   "cell_type": "code",
   "execution_count": null,
   "id": "36a309f1",
   "metadata": {},
   "outputs": [],
   "source": []
  },
  {
   "cell_type": "code",
   "execution_count": null,
   "id": "1022058f",
   "metadata": {},
   "outputs": [],
   "source": []
  }
 ],
 "metadata": {
  "kernelspec": {
   "display_name": "Python 3 (ipykernel)",
   "language": "python",
   "name": "python3"
  },
  "language_info": {
   "codemirror_mode": {
    "name": "ipython",
    "version": 3
   },
   "file_extension": ".py",
   "mimetype": "text/x-python",
   "name": "python",
   "nbconvert_exporter": "python",
   "pygments_lexer": "ipython3",
   "version": "3.7.3"
  }
 },
 "nbformat": 4,
 "nbformat_minor": 5
}
